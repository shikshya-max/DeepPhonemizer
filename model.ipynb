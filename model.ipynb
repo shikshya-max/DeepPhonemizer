{
 "cells": [
  {
   "cell_type": "code",
   "execution_count": 16,
   "metadata": {},
   "outputs": [],
   "source": [
    "from dp.phonemizer import Phonemizer"
   ]
  },
  {
   "cell_type": "code",
   "execution_count": 24,
   "metadata": {},
   "outputs": [
    {
     "name": "stderr",
     "output_type": "stream",
     "text": [
      "2022-08-21 22:01:45,767.767 DEBUG phonemizer:  Initializing phonemizer with model step 13500\n"
     ]
    },
    {
     "name": "stdout",
     "output_type": "stream",
     "text": [
      "ax aa i i u u ri e axj o axw\n"
     ]
    }
   ],
   "source": [
    "text = 'अ आ इ ई उ ऊ ऋ ए ऐ ओ औ' \n",
    "# text = 'अ आ '\n",
    "# text = 'क ख ग घ ङ च छ ज झ ञ ट ठ ड ढ ण त थ द ध न प फ ब भ म य र ल व श ष स ह'\n",
    "\n",
    "phonemizer = Phonemizer.from_checkpoint('best_model.pt')\n",
    "result = phonemizer(text, lang='en-us')\n",
    "\n",
    "print(result)\n"
   ]
  },
  {
   "cell_type": "code",
   "execution_count": 3,
   "metadata": {},
   "outputs": [],
   "source": [
    "new_text = text.replace(\",\",\"\").replace(\" \",\"\")"
   ]
  },
  {
   "cell_type": "code",
   "execution_count": 4,
   "metadata": {},
   "outputs": [
    {
     "name": "stdout",
     "output_type": "stream",
     "text": [
      "['kax', 'khax', 'gax', 'ghax', 'ngax', 'tsax', 'tshax', 'jhax', 'jhhax', 'yaxn', 'ttax', 'tthax', 'ddax', 'ddhax', 'nnax', 'tax', 'thax', 'dax', 'dhax', 'nax', 'pax', 'phax', 'bax', 'bhax', 'max', 'yax', 'rax', 'lax', 'wax', 'sax', 'sax', 'sax', 'hax']\n"
     ]
    }
   ],
   "source": [
    "result = result.split(\" \")\n",
    "print(result)\n"
   ]
  },
  {
   "cell_type": "code",
   "execution_count": 23,
   "metadata": {},
   "outputs": [
    {
     "name": "stdout",
     "output_type": "stream",
     "text": [
      "आ a 0.9974888143236669\n",
      "अ rax 0.3870426637642836\n"
     ]
    }
   ],
   "source": [
    "# Phonemize a list of texts and pull out model predictions with confidence scores\n",
    "a = []\n",
    "# text = 'क  ख  ग  घ  ङ  च  छ  ज  झ  ञ  ट  ठ  ड  ढ  ण  त  थ  द  ध  न  प  फ  ब  भ म  य  र  ल  व  श  ष  स ह'\n",
    "\n",
    "result = phonemizer.phonemise_list(text, lang='ne')\n",
    "\n",
    "for word, pred in result.predictions.items():\n",
    "  print(f'{word} {pred.phonemes} {pred.confidence}')\n",
    "  \n",
    "\n",
    "\n"
   ]
  },
  {
   "cell_type": "code",
   "execution_count": 75,
   "metadata": {},
   "outputs": [
    {
     "name": "stdout",
     "output_type": "stream",
     "text": [
      "[0.982871272783664, 0.7299253345214933, 0.7000132525908264, 0.9951040346854121, 0.46168717442608537, 0.9593968697205953, 0.7856862479550252, 0.9909035606162985, 0.70175326892039, 0.4592158470868286, 0.9942550876345689, 0.7839182417983886, 0.9509136827946092, 0.9938641477916045, 0.9743367502751781, 0.9960613798820663, 0.8131918997594241, 0.988701775471736, 0.9592994988951843, 0.8314531721879488, 0.3680828587177738, 0.9994863301453449, 0.6760264386741216, 0.76803119711591, 0.45888652160132176, 0.8666382062505918, 0.4665132927574731, 0.9903230028063669, 0.7043459018760585, 0.6911560764158421, 0.9972386425947661, 0.9877245160294625, 0.9592754784250628]\n"
     ]
    }
   ],
   "source": [
    "# Phonemize a list of texts and pull out model predictions with confidence scores\n",
    "a = []\n",
    "text = 'क  ख  ग  घ  ङ  च  छ  ज  झ  ञ  ट  ठ  ड  ढ  ण  त  थ  द  ध  न  प  फ  ब  भ म  य  र  ल  व  श  ष  स ह'\n",
    "# text = 'अ आ इ ई उ ऊ ऋ ए ऐ ओ औ' \n",
    "result = phonemizer.phonemise_list(text, lang='ne')\n",
    "\n",
    "for word, pred in result.predictions.items():\n",
    " a.append(pred.confidence)\n",
    "print(a)\n"
   ]
  },
  {
   "cell_type": "code",
   "execution_count": 87,
   "metadata": {},
   "outputs": [
    {
     "name": "stdout",
     "output_type": "stream",
     "text": [
      "क kax 0.982871272783664\n",
      "ख khax 0.7299253345214933\n",
      "ग gax 0.7000132525908264\n",
      "घ ghax 0.9951040346854121\n",
      "ङ ngax 0.46168717442608537\n",
      "च tsax 0.9593968697205953\n",
      "छ tshax 0.7856862479550252\n",
      "ज jhax 0.9909035606162985\n",
      "झ jhhax 0.70175326892039\n",
      "ञ yaxn 0.4592158470868286\n",
      "ट ttax 0.9942550876345689\n",
      "ठ tthax 0.7839182417983886\n",
      "ड ddax 0.9509136827946092\n",
      "ढ ddhax 0.9938641477916045\n",
      "ण nnax 0.9743367502751781\n",
      "त tax 0.9960613798820663\n",
      "थ thax 0.8131918997594241\n",
      "द dax 0.988701775471736\n",
      "ध dhax 0.9592994988951843\n",
      "न nax 0.8314531721879488\n",
      "प pax 0.3680828587177738\n",
      "फ phax 0.9994863301453449\n",
      "ब bax 0.6760264386741216\n",
      "भ bhax 0.76803119711591\n",
      "म max 0.45888652160132176\n",
      "य yax 0.8666382062505918\n",
      "र rax 0.4665132927574731\n",
      "ल lax 0.9903230028063669\n",
      "व wax 0.7043459018760585\n",
      "श sax 0.6911560764158421\n",
      "ष sax 0.9972386425947661\n",
      "स sax 0.9877245160294625\n",
      "ह hax 0.9592754784250628\n"
     ]
    }
   ],
   "source": [
    "for i in range(0, len(new_text)):\n",
    "    print(new_text[i], result[i],a[i])"
   ]
  },
  {
   "cell_type": "code",
   "execution_count": 96,
   "metadata": {},
   "outputs": [],
   "source": [
    "# Phonemize a list of texts and pull out model predictions with confidence scores\n",
    "text = 'अ आ इ ई उ ऊ ऋ ए ऐ ओ औ' \n",
    "\n",
    "# text = 'क ख ग घ ङ च छ ज झ ञ ट ठ ड ढ ण त थ द ध न प फ ब भ म य र ल व श ष स ह'\n",
    "result = phonemizer.phonemise_list(text, lang='en-us')\n",
    "\n",
    "for word, pred in result.predictions.items():\n",
    "  print(f'{word} {pred.phonemes} {pred.confidence}')"
   ]
  },
  {
   "cell_type": "code",
   "execution_count": 15,
   "metadata": {},
   "outputs": [
    {
     "name": "stderr",
     "output_type": "stream",
     "text": [
      "2022-08-21 07:39:28,168.168 DEBUG phonemizer:  Initializing phonemizer with model step 13500\n"
     ]
    },
    {
     "data": {
      "text/plain": [
       "'ax aa i i u u ri e axj o axw'"
      ]
     },
     "execution_count": 15,
     "metadata": {},
     "output_type": "execute_result"
    }
   ],
   "source": [
    "import torch\n",
    "from dp.phonemizer import Phonemizer\n",
    "\n",
    "phonemizer = Phonemizer.from_checkpoint('best_model.pt')\n",
    "model = phonemizer.predictor.model\n",
    "phonemizer.predictor.model = torch.jit.script(model)\n",
    "phonemizer(text, lang = 'en-us')"
   ]
  },
  {
   "cell_type": "code",
   "execution_count": null,
   "metadata": {},
   "outputs": [],
   "source": []
  }
 ],
 "metadata": {
  "kernelspec": {
   "display_name": "Python 3.9.7 ('base')",
   "language": "python",
   "name": "python3"
  },
  "language_info": {
   "codemirror_mode": {
    "name": "ipython",
    "version": 3
   },
   "file_extension": ".py",
   "mimetype": "text/x-python",
   "name": "python",
   "nbconvert_exporter": "python",
   "pygments_lexer": "ipython3",
   "version": "3.9.7"
  },
  "orig_nbformat": 4,
  "vscode": {
   "interpreter": {
    "hash": "a2ab3825ac7005fb7b26f112e9c99ae62f464c629e30b0d534c3b931b6cbc3ff"
   }
  }
 },
 "nbformat": 4,
 "nbformat_minor": 2
}
